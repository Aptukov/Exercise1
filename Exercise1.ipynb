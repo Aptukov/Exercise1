{
  "metadata": {
    "kernelspec": {
      "name": "python",
      "display_name": "Python (Pyodide)",
      "language": "python"
    },
    "language_info": {
      "codemirror_mode": {
        "name": "python",
        "version": 3
      },
      "file_extension": ".py",
      "mimetype": "text/x-python",
      "name": "python",
      "nbconvert_exporter": "python",
      "pygments_lexer": "ipython3",
      "version": "3.8"
    }
  },
  "nbformat_minor": 4,
  "nbformat": 4,
  "cells": [
    {
      "cell_type": "code",
      "source": "# Описание общей идеи решения:\n# Загружаем необходимые библиотеки и данные\n# Обрабатываем текст с помощью TF-IDF векторизации.\n# Обучаем модель с помощью метода опорных векторов (LinearSVC).\n# Тестируем её по метрике «F1-score со взвешенным усреднением»\n# Запускаем модель на данных test.csv и генерируем выходной файл test_with_sentiment.csv",
      "metadata": {
        "trusted": true
      },
      "outputs": [],
      "execution_count": null
    },
    {
      "cell_type": "code",
      "source": "# Импортируем нужные библиотеки\nimport pandas as pd\nfrom sklearn.feature_extraction.text import TfidfVectorizer\nfrom sklearn.svm import LinearSVC\nfrom sklearn.model_selection import train_test_split\nfrom sklearn.metrics import f1_score\n\n# Загрузка данных\ntrain_data = pd.read_csv('train.csv')\ntest_data = pd.read_csv('test.csv')\n\n# Преобразование текста в числовые векторы с помощью TF-IDF\nvectorizer = TfidfVectorizer(max_features=900000)\nX_train_tfidf = vectorizer.fit_transform(train_data['text'])\n\n# Разделение данных на обучающую и валидационную выборку\nX_train, X_val, y_train, y_val = train_test_split(X_train_tfidf, train_data['sentiment'], test_size=0.2, random_state=42)\n\n# Обучение модели SVM\nsvm_model = LinearSVC()\nsvm_model.fit(X_train, y_train)\n\n# Получение предсказаний для валидационной выборки и вычисление f1-score\ny_pred = svm_model.predict(X_val)\nf1score = f1_score(y_val, y_pred, average='weighted')\n\n# Выводим результат метрики f1-score\nprint(\"f1-score:\", f1score)\n\n# Преобразование текста из тестового набора в числовые векторы с помощью TF-IDF\nX_test_tfidf = vectorizer.transform(test_data['text'])\n\n# Предсказание эмоциональной категории текста в тестовых данных\nsentiments = svm_model.predict(X_test_tfidf)\n\n# Добавление предсказаний в новый столбец в тестовых данных\ntest_data['sentiment'] = sentiments\n\n# Удаляем столбец 'text'\ndel test_data['text']\n\n# Сохранение тестовых данных с предсказаниями в новый файл\ntest_data.to_csv('test_with_sentiment.csv', index=False)",
      "metadata": {
        "trusted": true
      },
      "outputs": [],
      "execution_count": null
    }
  ]
}